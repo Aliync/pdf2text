{
 "cells": [
  {
   "cell_type": "code",
   "execution_count": 79,
   "id": "b3f8118b-2bb3-490e-ad9b-f7bb4b000e4f",
   "metadata": {},
   "outputs": [],
   "source": [
    "from pdftotext import Pdf2Text"
   ]
  },
  {
   "cell_type": "code",
   "execution_count": 80,
   "id": "fbc3cbd6-2193-4d75-a8b4-ed95046840f8",
   "metadata": {},
   "outputs": [
    {
     "name": "stdout",
     "output_type": "stream",
     "text": [
      "Info: fas language File downloaded and saved to './langs/'.\n",
      "Info: eng language File downloaded and saved to './langs/'.\n"
     ]
    }
   ],
   "source": [
    "p2i = Pdf2Text()"
   ]
  },
  {
   "cell_type": "code",
   "execution_count": 76,
   "id": "f946bd34-6797-42af-8b30-d3eef2ce1792",
   "metadata": {},
   "outputs": [],
   "source": [
    "p2i.pdf_to_text()"
   ]
  }
 ],
 "metadata": {
  "kernelspec": {
   "display_name": "Python 3 (ipykernel)",
   "language": "python",
   "name": "python3"
  },
  "language_info": {
   "codemirror_mode": {
    "name": "ipython",
    "version": 3
   },
   "file_extension": ".py",
   "mimetype": "text/x-python",
   "name": "python",
   "nbconvert_exporter": "python",
   "pygments_lexer": "ipython3",
   "version": "3.9.5"
  }
 },
 "nbformat": 4,
 "nbformat_minor": 5
}
